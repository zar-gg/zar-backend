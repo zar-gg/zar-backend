{
 "cells": [
  {
   "cell_type": "code",
   "execution_count": 64,
   "metadata": {},
   "outputs": [],
   "source": [
    "import requests"
   ]
  },
  {
   "cell_type": "code",
   "execution_count": 3,
   "metadata": {},
   "outputs": [],
   "source": [
    "resp = requests.get(\"https://ddragon.leagueoflegends.com/api/versions.json\")"
   ]
  },
  {
   "cell_type": "code",
   "execution_count": 9,
   "metadata": {},
   "outputs": [
    {
     "data": {
      "text/plain": [
       "'12'"
      ]
     },
     "execution_count": 9,
     "metadata": {},
     "output_type": "execute_result"
    }
   ],
   "source": [
    "resp.json()[0].split('.')[0]"
   ]
  },
  {
   "cell_type": "code",
   "execution_count": 5,
   "metadata": {},
   "outputs": [],
   "source": [
    "count = 0\n",
    "matches = []\n",
    "match = []"
   ]
  },
  {
   "cell_type": "code",
   "execution_count": 86,
   "metadata": {},
   "outputs": [],
   "source": [
    "url = '''https://europe.api.riotgames.com/lol/match/v5/matches/by-puuid/xHjybbgrIZNKZG0osuuaUPzdwb1bXFte_Zm0ELRMHx15_voy-cd1L1be7dR2LsGL7NN-Wv-cke-AJg/ids?count=100&start={}&api_key=RGAPI-ffc1bcb6-133c-4267-a377-36c512c0709d'''.format(count)\n"
   ]
  },
  {
   "cell_type": "code",
   "execution_count": 87,
   "metadata": {},
   "outputs": [],
   "source": [
    "x = requests.get(url).json()"
   ]
  },
  {
   "cell_type": "code",
   "execution_count": 88,
   "metadata": {},
   "outputs": [
    {
     "data": {
      "text/plain": [
       "87"
      ]
     },
     "execution_count": 88,
     "metadata": {},
     "output_type": "execute_result"
    }
   ],
   "source": [
    "len(x)"
   ]
  },
  {
   "cell_type": "code",
   "execution_count": 65,
   "metadata": {},
   "outputs": [],
   "source": [
    "url = '''https://europe.api.riotgames.com/lol/match/v5/matches/by-puuid/xHjybbgrIZNKZG0osuuaUPzdwb1bXFte_Zm0ELRMHx15_voy-cd1L1be7dR2LsGL7NN-Wv-cke-AJg/ids?count=10&api_key=RGAPI-3201de05-4823-4d8e-9667-2856d1499f14'''\n",
    "resp = requests.get(url)\n"
   ]
  },
  {
   "cell_type": "code",
   "execution_count": 66,
   "metadata": {},
   "outputs": [
    {
     "data": {
      "text/plain": [
       "['EUW1_5888762390',\n",
       " 'EUW1_5888628186',\n",
       " 'EUW1_5888518220',\n",
       " 'EUW1_5888408819',\n",
       " 'EUW1_5888397663',\n",
       " 'EUW1_5888351835',\n",
       " 'EUW1_5887635252',\n",
       " 'EUW1_5887313179',\n",
       " 'EUW1_5887310930',\n",
       " 'EUW1_5885148127']"
      ]
     },
     "execution_count": 66,
     "metadata": {},
     "output_type": "execute_result"
    }
   ],
   "source": [
    "resp.json()"
   ]
  },
  {
   "cell_type": "code",
   "execution_count": 6,
   "metadata": {},
   "outputs": [
    {
     "name": "stdout",
     "output_type": "stream",
     "text": [
      "https://europe.api.riotgames.com/lol/match/v5/matches/by-puuid/xHjybbgrIZNKZG0osuuaUPzdwb1bXFte_Zm0ELRMHx15_voy-cd1L1be7dR2LsGL7NN-Wv-cke-AJg/ids?count=100&start=0&api_key=RGAPI-d5b1546b-f251-4890-8115-2d6c7628730f\n",
      "100\n",
      "https://europe.api.riotgames.com/lol/match/v5/matches/by-puuid/xHjybbgrIZNKZG0osuuaUPzdwb1bXFte_Zm0ELRMHx15_voy-cd1L1be7dR2LsGL7NN-Wv-cke-AJg/ids?count=100&start=100&api_key=RGAPI-d5b1546b-f251-4890-8115-2d6c7628730f\n",
      "100\n",
      "https://europe.api.riotgames.com/lol/match/v5/matches/by-puuid/xHjybbgrIZNKZG0osuuaUPzdwb1bXFte_Zm0ELRMHx15_voy-cd1L1be7dR2LsGL7NN-Wv-cke-AJg/ids?count=100&start=200&api_key=RGAPI-d5b1546b-f251-4890-8115-2d6c7628730f\n",
      "100\n",
      "https://europe.api.riotgames.com/lol/match/v5/matches/by-puuid/xHjybbgrIZNKZG0osuuaUPzdwb1bXFte_Zm0ELRMHx15_voy-cd1L1be7dR2LsGL7NN-Wv-cke-AJg/ids?count=100&start=300&api_key=RGAPI-d5b1546b-f251-4890-8115-2d6c7628730f\n",
      "100\n",
      "https://europe.api.riotgames.com/lol/match/v5/matches/by-puuid/xHjybbgrIZNKZG0osuuaUPzdwb1bXFte_Zm0ELRMHx15_voy-cd1L1be7dR2LsGL7NN-Wv-cke-AJg/ids?count=100&start=400&api_key=RGAPI-d5b1546b-f251-4890-8115-2d6c7628730f\n",
      "100\n",
      "https://europe.api.riotgames.com/lol/match/v5/matches/by-puuid/xHjybbgrIZNKZG0osuuaUPzdwb1bXFte_Zm0ELRMHx15_voy-cd1L1be7dR2LsGL7NN-Wv-cke-AJg/ids?count=100&start=500&api_key=RGAPI-d5b1546b-f251-4890-8115-2d6c7628730f\n",
      "100\n",
      "https://europe.api.riotgames.com/lol/match/v5/matches/by-puuid/xHjybbgrIZNKZG0osuuaUPzdwb1bXFte_Zm0ELRMHx15_voy-cd1L1be7dR2LsGL7NN-Wv-cke-AJg/ids?count=100&start=600&api_key=RGAPI-d5b1546b-f251-4890-8115-2d6c7628730f\n",
      "100\n",
      "https://europe.api.riotgames.com/lol/match/v5/matches/by-puuid/xHjybbgrIZNKZG0osuuaUPzdwb1bXFte_Zm0ELRMHx15_voy-cd1L1be7dR2LsGL7NN-Wv-cke-AJg/ids?count=100&start=700&api_key=RGAPI-d5b1546b-f251-4890-8115-2d6c7628730f\n",
      "100\n",
      "https://europe.api.riotgames.com/lol/match/v5/matches/by-puuid/xHjybbgrIZNKZG0osuuaUPzdwb1bXFte_Zm0ELRMHx15_voy-cd1L1be7dR2LsGL7NN-Wv-cke-AJg/ids?count=100&start=800&api_key=RGAPI-d5b1546b-f251-4890-8115-2d6c7628730f\n",
      "100\n",
      "https://europe.api.riotgames.com/lol/match/v5/matches/by-puuid/xHjybbgrIZNKZG0osuuaUPzdwb1bXFte_Zm0ELRMHx15_voy-cd1L1be7dR2LsGL7NN-Wv-cke-AJg/ids?count=100&start=900&api_key=RGAPI-d5b1546b-f251-4890-8115-2d6c7628730f\n",
      "less\n",
      "89\n"
     ]
    }
   ],
   "source": [
    "while True:\n",
    "    url = '''https://europe.api.riotgames.com/lol/match/v5/matches/by-puuid/xHjybbgrIZNKZG0osuuaUPzdwb1bXFte_Zm0ELRMHx15_voy-cd1L1be7dR2LsGL7NN-Wv-cke-AJg/ids?count=100&start={}&api_key=RGAPI-d5b1546b-f251-4890-8115-2d6c7628730f'''.format(count)\n",
    "    print(url)\n",
    "    resp = requests.get(url)\n",
    "\n",
    "    if len(resp.json()) < 100:\n",
    "        print('less')\n",
    "        print(len(resp.json()))\n",
    "        match.append(len(resp.json()))\n",
    "        matches.append(resp.json())\n",
    "        break\n",
    "\n",
    "    matches.append(resp.json())\n",
    "    match.append(len(resp.json()))\n",
    "    count+=100\n",
    "    print(len(resp.json()))"
   ]
  },
  {
   "cell_type": "code",
   "execution_count": 67,
   "metadata": {},
   "outputs": [
    {
     "name": "stdout",
     "output_type": "stream",
     "text": [
      "EUW1_5873224020\n",
      "EUW1_5873192042\n",
      "EUW1_5873093783\n",
      "EUW1_5872986185\n",
      "EUW1_5872197277\n",
      "EUW1_5872184000\n",
      "EUW1_5872006464\n",
      "EUW1_5871927605\n",
      "EUW1_5871777272\n",
      "EUW1_5871498795\n",
      "EUW1_5870037192\n",
      "EUW1_5869991636\n",
      "EUW1_5869865253\n",
      "EUW1_5869836984\n",
      "EUW1_5869650084\n",
      "EUW1_5869539929\n",
      "EUW1_5869232635\n",
      "EUW1_5868805042\n",
      "EUW1_5868417811\n",
      "EUW1_5868410592\n",
      "EUW1_5868200926\n",
      "EUW1_5868115303\n",
      "EUW1_5868068169\n",
      "EUW1_5868052770\n",
      "EUW1_5867976773\n",
      "EUW1_5867818792\n",
      "EUW1_5863724630\n",
      "EUW1_5863635847\n",
      "EUW1_5863602793\n",
      "EUW1_5863503804\n",
      "EUW1_5858752140\n",
      "EUW1_5858667422\n",
      "EUW1_5858623974\n",
      "EUW1_5858530379\n",
      "EUW1_5858526402\n",
      "EUW1_5857445287\n",
      "EUW1_5857429274\n",
      "EUW1_5857375001\n",
      "EUW1_5857319394\n",
      "EUW1_5857305395\n",
      "EUW1_5857271615\n",
      "EUW1_5857227088\n",
      "EUW1_5857232745\n",
      "EUW1_5857110134\n",
      "EUW1_5857136286\n",
      "EUW1_5857083494\n",
      "EUW1_5856960104\n",
      "EUW1_5857036677\n",
      "EUW1_5855880112\n",
      "EUW1_5855825098\n",
      "EUW1_5855820596\n",
      "EUW1_5855725704\n",
      "EUW1_5855640133\n",
      "EUW1_5855556779\n",
      "EUW1_5855418521\n",
      "EUW1_5855444739\n",
      "EUW1_5854079380\n",
      "EUW1_5853259428\n",
      "EUW1_5853312514\n",
      "EUW1_5853166503\n",
      "EUW1_5853117082\n",
      "EUW1_5852378063\n",
      "EUW1_5852346332\n",
      "EUW1_5852391886\n",
      "EUW1_5852230390\n",
      "EUW1_5851843647\n",
      "EUW1_5851776669\n",
      "EUW1_5851688162\n",
      "EUW1_5851620136\n",
      "EUW1_5850504691\n",
      "EUW1_5850459589\n",
      "EUW1_5850416310\n",
      "EUW1_5849839293\n",
      "EUW1_5849739674\n",
      "EUW1_5849713358\n",
      "EUW1_5849569340\n",
      "EUW1_5849001228\n",
      "EUW1_5848050877\n",
      "EUW1_5847914497\n",
      "EUW1_5847856277\n",
      "EUW1_5847778995\n",
      "EUW1_5847712921\n",
      "EUW1_5847665197\n",
      "EUW1_5847561746\n",
      "EUW1_5847494486\n",
      "EUW1_5847400743\n",
      "EUW1_5847251696\n",
      "EUW1_5847117001\n",
      "EUW1_5844697201\n",
      "EUW1_5844661389\n",
      "EUW1_5844624616\n",
      "EUW1_5844526871\n",
      "EUW1_5844333087\n",
      "EUW1_5843313209\n",
      "EUW1_5843206313\n",
      "EUW1_5843129859\n",
      "EUW1_5843035496\n",
      "EUW1_5841147041\n",
      "EUW1_5842907697\n",
      "EUW1_5842940804\n"
     ]
    }
   ],
   "source": [
    "for match in matches[0]:\n",
    "    print(match)"
   ]
  },
  {
   "cell_type": "code",
   "execution_count": 8,
   "metadata": {},
   "outputs": [
    {
     "name": "stdout",
     "output_type": "stream",
     "text": [
      "100\n",
      "100\n",
      "100\n",
      "100\n",
      "100\n",
      "100\n",
      "100\n",
      "100\n",
      "100\n",
      "89\n"
     ]
    }
   ],
   "source": [
    "for li in matches:\n",
    "    print(len(li))"
   ]
  },
  {
   "cell_type": "code",
   "execution_count": 7,
   "metadata": {},
   "outputs": [],
   "source": [
    "# for li in matches:\n",
    "    # for id in li:\n",
    "        # detail_url = \"https://europe.api.riotgames.com/lol/match/v5/matches/{}?api_key=RGAPI-7d171723-4d68-4892-a1b0-7efbf12e5caa\".format(id)\n",
    "\n"
   ]
  },
  {
   "cell_type": "code",
   "execution_count": null,
   "metadata": {},
   "outputs": [],
   "source": []
  },
  {
   "cell_type": "code",
   "execution_count": 68,
   "metadata": {},
   "outputs": [],
   "source": [
    "import itertools"
   ]
  },
  {
   "cell_type": "code",
   "execution_count": 69,
   "metadata": {},
   "outputs": [],
   "source": [
    "match_list = list(itertools.chain.from_iterable(matches))"
   ]
  },
  {
   "cell_type": "code",
   "execution_count": 70,
   "metadata": {},
   "outputs": [
    {
     "data": {
      "text/plain": [
       "989"
      ]
     },
     "execution_count": 70,
     "metadata": {},
     "output_type": "execute_result"
    }
   ],
   "source": [
    "len(match_list)"
   ]
  },
  {
   "cell_type": "code",
   "execution_count": 71,
   "metadata": {},
   "outputs": [
    {
     "data": {
      "text/plain": [
       "'EUW1_5308100940'"
      ]
     },
     "execution_count": 71,
     "metadata": {},
     "output_type": "execute_result"
    }
   ],
   "source": [
    "match_list[-1]"
   ]
  },
  {
   "cell_type": "code",
   "execution_count": 13,
   "metadata": {},
   "outputs": [],
   "source": [
    "import time"
   ]
  },
  {
   "cell_type": "code",
   "execution_count": 14,
   "metadata": {},
   "outputs": [],
   "source": [
    "match_list = resp.json()"
   ]
  },
  {
   "cell_type": "code",
   "execution_count": 73,
   "metadata": {},
   "outputs": [],
   "source": [
    "\n",
    "# data = None\n",
    "# for id in match_list:\n",
    "detail_url = \"https://europe.api.riotgames.com/lol/match/v5/matches/{}?api_key=RGAPI-3201de05-4823-4d8e-9667-2856d1499f14\".format('EUW1_5875569815')\n",
    "resp = requests.get(detail_url)\n",
    "data = resp.json()\n",
    "\n",
    "\n",
    "    # break\n",
    "    \n",
    "\n"
   ]
  },
  {
   "cell_type": "code",
   "execution_count": 74,
   "metadata": {},
   "outputs": [
    {
     "data": {
      "text/plain": [
       "dict_keys(['metadata', 'info'])"
      ]
     },
     "execution_count": 74,
     "metadata": {},
     "output_type": "execute_result"
    }
   ],
   "source": [
    "data.keys()"
   ]
  },
  {
   "cell_type": "code",
   "execution_count": 75,
   "metadata": {},
   "outputs": [
    {
     "data": {
      "text/plain": [
       "{'dataVersion': '2',\n",
       " 'matchId': 'EUW1_5875569815',\n",
       " 'participants': ['8dCxDm32bh5TKAqRsbuBbP9au0rZn5skPsxcjOFL2hBueuyKNQw783Zwt_Mu_8QzEqRBveyf7N-aRw',\n",
       "  'pSSuZN6FmCDSyD43cyKOdbIhx5e-zgePREKa1LDs0AC4BCDRhyRSSGiVn8iYiaqcoVFSejO5ui3cwQ',\n",
       "  'EZqK0i3MeumZYuGSQInqeu8p8w4Ylw8hj8Teds_ROWzNa08Czd3tn_b7EhNcVZP8VZtrETW-ZdrkPQ',\n",
       "  'xHjybbgrIZNKZG0osuuaUPzdwb1bXFte_Zm0ELRMHx15_voy-cd1L1be7dR2LsGL7NN-Wv-cke-AJg',\n",
       "  'OFQ57_Z6I61w1SBz3VXkXvTWyh76oG23VxKEe3grN4IJwPduOK_W4UO2jKtqDb0wI1WToYi3hjPkRg',\n",
       "  'S1Z5J-3KytcP1ssMT2zhA7FNfaP-ypNGKVOLlgxY5EWPdl4lBk9P52Cqf_wyR8KZxcgEa5hiXlgtQQ',\n",
       "  'EARNX8jVjO87UzPbhHuuRanlm8THz49LPRYCN-VbqZg1v8f8iNeP6iIzawYBe1t0tKqBQ9KjYj42Ag',\n",
       "  'SpC8uDjgqN6C5HTmXQxuuP1rt09fco1urKlWhB7nfb1hPTWFR2VXXihXHOzcNwFyr0_-gFlDPU103g',\n",
       "  'ZBfBHpD2DFfb0yR9jDr9thxijTk0ymANpUCCx75Zhy0LoPwG77crsqQYBiLf_f9Dlu5h8VPOrS6pfQ',\n",
       "  'gb8I12QVPdduhNt7cFQAR6LT9s6ETmft_wAb5-hwy_n65MPi1IxWRUcN2m3ecYEZ-hrjqnIz-7517Q']}"
      ]
     },
     "execution_count": 75,
     "metadata": {},
     "output_type": "execute_result"
    }
   ],
   "source": [
    "data['metadata']"
   ]
  },
  {
   "cell_type": "code",
   "execution_count": 40,
   "metadata": {},
   "outputs": [
    {
     "data": {
      "text/plain": [
       "'EUW1_5873224020'"
      ]
     },
     "execution_count": 40,
     "metadata": {},
     "output_type": "execute_result"
    }
   ],
   "source": [
    "data['metadata']['matchId']"
   ]
  },
  {
   "cell_type": "code",
   "execution_count": 76,
   "metadata": {},
   "outputs": [
    {
     "data": {
      "text/plain": [
       "dict_keys(['gameCreation', 'gameDuration', 'gameEndTimestamp', 'gameId', 'gameMode', 'gameName', 'gameStartTimestamp', 'gameType', 'gameVersion', 'mapId', 'participants', 'platformId', 'queueId', 'teams', 'tournamentCode'])"
      ]
     },
     "execution_count": 76,
     "metadata": {},
     "output_type": "execute_result"
    }
   ],
   "source": [
    "data['info'].keys()"
   ]
  },
  {
   "cell_type": "code",
   "execution_count": 42,
   "metadata": {},
   "outputs": [
    {
     "data": {
      "text/plain": [
       "False"
      ]
     },
     "execution_count": 42,
     "metadata": {},
     "output_type": "execute_result"
    }
   ],
   "source": [
    "data['info']['teams'][0]['win']"
   ]
  },
  {
   "cell_type": "code",
   "execution_count": 43,
   "metadata": {},
   "outputs": [
    {
     "data": {
      "text/plain": [
       "1989"
      ]
     },
     "execution_count": 43,
     "metadata": {},
     "output_type": "execute_result"
    }
   ],
   "source": [
    "data['info']['gameDuration']"
   ]
  },
  {
   "cell_type": "code",
   "execution_count": 81,
   "metadata": {},
   "outputs": [],
   "source": [
    "me = [x for x in data['info']['participants'] if x['puuid'] == 'xHjybbgrIZNKZG0osuuaUPzdwb1bXFte_Zm0ELRMHx15_voy-cd1L1be7dR2LsGL7NN-Wv-cke-AJg']"
   ]
  },
  {
   "cell_type": "code",
   "execution_count": 89,
   "metadata": {},
   "outputs": [
    {
     "data": {
      "text/plain": [
       "8"
      ]
     },
     "execution_count": 89,
     "metadata": {},
     "output_type": "execute_result"
    }
   ],
   "source": [
    "me[0]['assists']"
   ]
  },
  {
   "cell_type": "code",
   "execution_count": 85,
   "metadata": {},
   "outputs": [
    {
     "data": {
      "text/plain": [
       "7006"
      ]
     },
     "execution_count": 85,
     "metadata": {},
     "output_type": "execute_result"
    }
   ],
   "source": [
    "me[0]['item0']"
   ]
  },
  {
   "cell_type": "code",
   "execution_count": 44,
   "metadata": {},
   "outputs": [
    {
     "data": {
      "text/plain": [
       "dict_keys(['assists', 'baronKills', 'bountyLevel', 'challenges', 'champExperience', 'champLevel', 'championId', 'championName', 'championTransform', 'consumablesPurchased', 'damageDealtToBuildings', 'damageDealtToObjectives', 'damageDealtToTurrets', 'damageSelfMitigated', 'deaths', 'detectorWardsPlaced', 'doubleKills', 'dragonKills', 'eligibleForProgression', 'firstBloodAssist', 'firstBloodKill', 'firstTowerAssist', 'firstTowerKill', 'gameEndedInEarlySurrender', 'gameEndedInSurrender', 'goldEarned', 'goldSpent', 'individualPosition', 'inhibitorKills', 'inhibitorTakedowns', 'inhibitorsLost', 'item0', 'item1', 'item2', 'item3', 'item4', 'item5', 'item6', 'itemsPurchased', 'killingSprees', 'kills', 'lane', 'largestCriticalStrike', 'largestKillingSpree', 'largestMultiKill', 'longestTimeSpentLiving', 'magicDamageDealt', 'magicDamageDealtToChampions', 'magicDamageTaken', 'neutralMinionsKilled', 'nexusKills', 'nexusLost', 'nexusTakedowns', 'objectivesStolen', 'objectivesStolenAssists', 'participantId', 'pentaKills', 'perks', 'physicalDamageDealt', 'physicalDamageDealtToChampions', 'physicalDamageTaken', 'profileIcon', 'puuid', 'quadraKills', 'riotIdName', 'riotIdTagline', 'role', 'sightWardsBoughtInGame', 'spell1Casts', 'spell2Casts', 'spell3Casts', 'spell4Casts', 'summoner1Casts', 'summoner1Id', 'summoner2Casts', 'summoner2Id', 'summonerId', 'summonerLevel', 'summonerName', 'teamEarlySurrendered', 'teamId', 'teamPosition', 'timeCCingOthers', 'timePlayed', 'totalDamageDealt', 'totalDamageDealtToChampions', 'totalDamageShieldedOnTeammates', 'totalDamageTaken', 'totalHeal', 'totalHealsOnTeammates', 'totalMinionsKilled', 'totalTimeCCDealt', 'totalTimeSpentDead', 'totalUnitsHealed', 'tripleKills', 'trueDamageDealt', 'trueDamageDealtToChampions', 'trueDamageTaken', 'turretKills', 'turretTakedowns', 'turretsLost', 'unrealKills', 'visionScore', 'visionWardsBoughtInGame', 'wardsKilled', 'wardsPlaced', 'win'])"
      ]
     },
     "execution_count": 44,
     "metadata": {},
     "output_type": "execute_result"
    }
   ],
   "source": [
    "data['info']['participants'][0].keys()"
   ]
  },
  {
   "cell_type": "code",
   "execution_count": 52,
   "metadata": {},
   "outputs": [
    {
     "data": {
      "text/plain": [
       "'xHjybbgrIZNKZG0osuuaUPzdwb1bXFte_Zm0ELRMHx15_voy-cd1L1be7dR2LsGL7NN-Wv-cke-AJg'"
      ]
     },
     "execution_count": 52,
     "metadata": {},
     "output_type": "execute_result"
    }
   ],
   "source": [
    "data['info']['participants'][6]['puuid']"
   ]
  },
  {
   "cell_type": "code",
   "execution_count": 53,
   "metadata": {},
   "outputs": [
    {
     "data": {
      "text/plain": [
       "'taihim672'"
      ]
     },
     "execution_count": 53,
     "metadata": {},
     "output_type": "execute_result"
    }
   ],
   "source": [
    "data['info']['participants'][6]['summonerName']"
   ]
  },
  {
   "cell_type": "code",
   "execution_count": 62,
   "metadata": {},
   "outputs": [
    {
     "data": {
      "text/plain": [
       "4"
      ]
     },
     "execution_count": 62,
     "metadata": {},
     "output_type": "execute_result"
    }
   ],
   "source": [
    "data['info']['participants'][6]['summoner1Id']\n",
    "data['info']['participants'][6]['summoner2Id']"
   ]
  },
  {
   "cell_type": "code",
   "execution_count": 54,
   "metadata": {},
   "outputs": [
    {
     "data": {
      "text/plain": [
       "{'statPerks': {'defense': 5002, 'flex': 5008, 'offense': 5007},\n",
       " 'styles': [{'description': 'primaryStyle',\n",
       "   'selections': [{'perk': 8214, 'var1': 1064, 'var2': 716, 'var3': 0},\n",
       "    {'perk': 8275, 'var1': 21, 'var2': 0, 'var3': 0},\n",
       "    {'perk': 8210, 'var1': 6, 'var2': 0, 'var3': 0},\n",
       "    {'perk': 8232, 'var1': 5, 'var2': 40, 'var3': 0}],\n",
       "   'style': 8200},\n",
       "  {'description': 'subStyle',\n",
       "   'selections': [{'perk': 8473, 'var1': 1174, 'var2': 0, 'var3': 0},\n",
       "    {'perk': 8453, 'var1': 1201, 'var2': 1281, 'var3': 0}],\n",
       "   'style': 8400}]}"
      ]
     },
     "execution_count": 54,
     "metadata": {},
     "output_type": "execute_result"
    }
   ],
   "source": [
    "data['info']['participants'][6]['perks']"
   ]
  },
  {
   "cell_type": "code",
   "execution_count": 61,
   "metadata": {},
   "outputs": [
    {
     "data": {
      "text/plain": [
       "'JUNGLE'"
      ]
     },
     "execution_count": 61,
     "metadata": {},
     "output_type": "execute_result"
    }
   ],
   "source": [
    "data['info']['participants'][6]['individualPosition']"
   ]
  },
  {
   "cell_type": "code",
   "execution_count": 58,
   "metadata": {},
   "outputs": [
    {
     "data": {
      "text/plain": [
       "17"
      ]
     },
     "execution_count": 58,
     "metadata": {},
     "output_type": "execute_result"
    }
   ],
   "source": [
    "data['info']['participants'][6]['champLevel']"
   ]
  },
  {
   "cell_type": "code",
   "execution_count": 55,
   "metadata": {},
   "outputs": [
    {
     "data": {
      "text/plain": [
       "4"
      ]
     },
     "execution_count": 55,
     "metadata": {},
     "output_type": "execute_result"
    }
   ],
   "source": [
    "data['info']['participants'][6]['deaths']"
   ]
  },
  {
   "cell_type": "code",
   "execution_count": 56,
   "metadata": {},
   "outputs": [
    {
     "data": {
      "text/plain": [
       "8"
      ]
     },
     "execution_count": 56,
     "metadata": {},
     "output_type": "execute_result"
    }
   ],
   "source": [
    "data['info']['participants'][6]['kills']"
   ]
  },
  {
   "cell_type": "code",
   "execution_count": 57,
   "metadata": {},
   "outputs": [
    {
     "data": {
      "text/plain": [
       "19"
      ]
     },
     "execution_count": 57,
     "metadata": {},
     "output_type": "execute_result"
    }
   ],
   "source": [
    "data['info']['participants'][6]['assists']"
   ]
  },
  {
   "cell_type": "code",
   "execution_count": 31,
   "metadata": {},
   "outputs": [
    {
     "data": {
      "text/plain": [
       "200"
      ]
     },
     "execution_count": 31,
     "metadata": {},
     "output_type": "execute_result"
    }
   ],
   "source": [
    "data['info']['participants'][6]['teamId']"
   ]
  },
  {
   "cell_type": "code",
   "execution_count": 38,
   "metadata": {},
   "outputs": [
    {
     "data": {
      "text/plain": [
       "'12'"
      ]
     },
     "execution_count": 38,
     "metadata": {},
     "output_type": "execute_result"
    }
   ],
   "source": [
    "data['info']['gameVersion'].split('.')[0]"
   ]
  },
  {
   "cell_type": "code",
   "execution_count": 31,
   "metadata": {},
   "outputs": [
    {
     "data": {
      "text/plain": [
       "400"
      ]
     },
     "execution_count": 31,
     "metadata": {},
     "output_type": "execute_result"
    }
   ],
   "source": [
    "data['info']['queueId']"
   ]
  },
  {
   "cell_type": "code",
   "execution_count": 39,
   "metadata": {},
   "outputs": [
    {
     "data": {
      "text/plain": [
       "1649020227000"
      ]
     },
     "execution_count": 39,
     "metadata": {},
     "output_type": "execute_result"
    }
   ],
   "source": [
    "data['info']['gameCreation']"
   ]
  },
  {
   "cell_type": "code",
   "execution_count": 30,
   "metadata": {},
   "outputs": [
    {
     "data": {
      "text/plain": [
       "1624658597589"
      ]
     },
     "execution_count": 30,
     "metadata": {},
     "output_type": "execute_result"
    }
   ],
   "source": [
    "data['info']['gameStartTimestamp']"
   ]
  },
  {
   "cell_type": "code",
   "execution_count": 21,
   "metadata": {},
   "outputs": [],
   "source": [
    "from constants import Constants\n"
   ]
  },
  {
   "cell_type": "code",
   "execution_count": 34,
   "metadata": {},
   "outputs": [
    {
     "name": "stdout",
     "output_type": "stream",
     "text": [
      "normal_draft\n"
     ]
    }
   ],
   "source": [
    "for item in Constants.constant_dict['queue_ids'].items():\n",
    "    if item[1] == '400':\n",
    "        print(item[0])\n"
   ]
  },
  {
   "cell_type": "code",
   "execution_count": 59,
   "metadata": {},
   "outputs": [
    {
     "data": {
      "text/plain": [
       "dict_keys(['assists', 'baronKills', 'bountyLevel', 'challenges', 'champExperience', 'champLevel', 'championId', 'championName', 'championTransform', 'consumablesPurchased', 'damageDealtToBuildings', 'damageDealtToObjectives', 'damageDealtToTurrets', 'damageSelfMitigated', 'deaths', 'detectorWardsPlaced', 'doubleKills', 'dragonKills', 'firstBloodAssist', 'firstBloodKill', 'firstTowerAssist', 'firstTowerKill', 'gameEndedInEarlySurrender', 'gameEndedInSurrender', 'goldEarned', 'goldSpent', 'individualPosition', 'inhibitorKills', 'inhibitorTakedowns', 'inhibitorsLost', 'item0', 'item1', 'item2', 'item3', 'item4', 'item5', 'item6', 'itemsPurchased', 'killingSprees', 'kills', 'lane', 'largestCriticalStrike', 'largestKillingSpree', 'largestMultiKill', 'longestTimeSpentLiving', 'magicDamageDealt', 'magicDamageDealtToChampions', 'magicDamageTaken', 'neutralMinionsKilled', 'nexusKills', 'nexusLost', 'nexusTakedowns', 'objectivesStolen', 'objectivesStolenAssists', 'participantId', 'pentaKills', 'perks', 'physicalDamageDealt', 'physicalDamageDealtToChampions', 'physicalDamageTaken', 'profileIcon', 'puuid', 'quadraKills', 'riotIdName', 'riotIdTagline', 'role', 'sightWardsBoughtInGame', 'spell1Casts', 'spell2Casts', 'spell3Casts', 'spell4Casts', 'summoner1Casts', 'summoner1Id', 'summoner2Casts', 'summoner2Id', 'summonerId', 'summonerLevel', 'summonerName', 'teamEarlySurrendered', 'teamId', 'teamPosition', 'timeCCingOthers', 'timePlayed', 'totalDamageDealt', 'totalDamageDealtToChampions', 'totalDamageShieldedOnTeammates', 'totalDamageTaken', 'totalHeal', 'totalHealsOnTeammates', 'totalMinionsKilled', 'totalTimeCCDealt', 'totalTimeSpentDead', 'totalUnitsHealed', 'tripleKills', 'trueDamageDealt', 'trueDamageDealtToChampions', 'trueDamageTaken', 'turretKills', 'turretTakedowns', 'turretsLost', 'unrealKills', 'visionScore', 'visionWardsBoughtInGame', 'wardsKilled', 'wardsPlaced', 'win'])"
      ]
     },
     "execution_count": 59,
     "metadata": {},
     "output_type": "execute_result"
    }
   ],
   "source": [
    "data['info']['participants'][0].keys()"
   ]
  },
  {
   "cell_type": "code",
   "execution_count": 50,
   "metadata": {},
   "outputs": [
    {
     "name": "stdout",
     "output_type": "stream",
     "text": [
      "False\n",
      "Champ Morgana\n",
      "champLevel 13\n",
      "champID 25\n",
      "Summoner taihim672\n",
      "summLevel 353\n",
      "summID _QDQfG3lkY7U7oR_jo_LfG68ZCwlEDMfcn5dKJfsEftF4_M\n",
      "teamID 100\n",
      "Lane UTILITY\n",
      "\n",
      "False\n",
      "Champ Viktor\n",
      "champLevel 16\n",
      "champID 112\n",
      "Summoner ReCyCLe biNNN\n",
      "summLevel 173\n",
      "summID GPuB-1d6l54IvLav4_a4EgyE4Dv5KLRQt91LkwCIsjuXc50\n",
      "teamID 100\n",
      "Lane MIDDLE\n",
      "\n",
      "False\n",
      "Champ Nocturne\n",
      "champLevel 12\n",
      "champID 56\n",
      "Summoner The Career Coach\n",
      "summLevel 318\n",
      "summID dNVct0FzpAOs_Sm8j2L6seUih3YS_70eL7RXJgOHDX7r064\n",
      "teamID 100\n",
      "Lane JUNGLE\n",
      "\n",
      "False\n",
      "Champ DrMundo\n",
      "champLevel 16\n",
      "champID 36\n",
      "Summoner döctor\n",
      "summLevel 277\n",
      "summID J6xqYhq9RMMyhVJdquNybUQolxtivf0S_qrsMWzLuElDboA\n",
      "teamID 100\n",
      "Lane TOP\n",
      "\n",
      "False\n",
      "Champ MissFortune\n",
      "champLevel 15\n",
      "champID 21\n",
      "Summoner DJBraavo\n",
      "summLevel 75\n",
      "summID 7bWxEiZ185eRNdCZeOc6KkTUa0eQqIik0jnOMM2QCvRZN1_YOTdSrc58fA\n",
      "teamID 100\n",
      "Lane BOTTOM\n",
      "\n",
      "True\n",
      "Champ Samira\n",
      "champLevel 16\n",
      "champID 360\n",
      "Summoner IUSEDTOBETOXICC\n",
      "summLevel 97\n",
      "summID IDv8-S0mv6Ymekx3SaAPiTep7ODnjbBJUr9MZD41KEnzIBOkG5I14hTIqw\n",
      "teamID 200\n",
      "Lane BOTTOM\n",
      "\n",
      "True\n",
      "Champ Nautilus\n",
      "champLevel 14\n",
      "champID 111\n",
      "Summoner Kaarolus\n",
      "summLevel 311\n",
      "summID ZQnY9Zo98ibe06i-Wq8BAiHdQo_jTo_wslSHMkVCN3iaei8\n",
      "teamID 200\n",
      "Lane UTILITY\n",
      "\n",
      "True\n",
      "Champ Ziggs\n",
      "champLevel 16\n",
      "champID 115\n",
      "Summoner SusanaSF\n",
      "summLevel 113\n",
      "summID LfO9qqkwx30um49WQrVqyzmAloIR3KldUgu3zVgH7KAm0YWj\n",
      "teamID 200\n",
      "Lane MIDDLE\n",
      "\n",
      "True\n",
      "Champ Nunu\n",
      "champLevel 16\n",
      "champID 20\n",
      "Summoner Imber7\n",
      "summLevel 80\n",
      "summID Dvn3XzvcaWK7XvYdmKg4R6YSyVYqTwxDa9-IBjpzRYEQdn6RysNZ7Kvm1g\n",
      "teamID 200\n",
      "Lane JUNGLE\n",
      "\n",
      "True\n",
      "Champ Ornn\n",
      "champLevel 16\n",
      "champID 516\n",
      "Summoner theboys02\n",
      "summLevel 85\n",
      "summID 317_EKlvoqLXeGwVfau95Y-dNj058ruP3ceHOsqoACNdM8U7DQosAyuXjw\n",
      "teamID 200\n",
      "Lane TOP\n",
      "\n"
     ]
    }
   ],
   "source": [
    "for part in data['info']['participants']:\n",
    "    print(part['win'])\n",
    "    print(\"Champ\", part['championName'])\n",
    "    print(\"champLevel\", part[\"champLevel\"])\n",
    "    print(\"champID\", part[\"championId\"]) \n",
    "    print(\"Summoner\", part['summonerName'])\n",
    "    print(\"summLevel\", part['summonerLevel'])\n",
    "    print(\"summID\", part['summonerId'])\n",
    "    print(\"teamID\", part['teamId'])\n",
    "    print(\"Lane\", part['individualPosition'])\n",
    "    print()\n",
    "\n"
   ]
  },
  {
   "cell_type": "code",
   "execution_count": 59,
   "metadata": {},
   "outputs": [],
   "source": [
    "players = {\n",
    "            'winners': {},\n",
    "            'losers':  {}\n",
    "            }\n",
    "            \n",
    "for part in data['info']['participants']:\n",
    "    if part['win']:\n",
    "        # winning team details \n",
    "        players['winners'][part['individualPosition']] = {}\n",
    "\n",
    "        players['winners'][part['individualPosition']]['champName'] = part['championName'] \n",
    "        players['winners'][part['individualPosition']]['championLevel'] = part['champLevel']\n",
    "        players['winners'][part['individualPosition']]['championId'] = part['championId']\n",
    "        players['winners'][part['individualPosition']]['riot_team_id'] = part['teamId']\n",
    "        players['winners'][part['individualPosition']]['lane'] = part['individualPosition']\n",
    "        \n",
    "    else:\n",
    "        # losing team details\n",
    "        players['losers'][part['individualPosition']] = {}\n",
    "\n",
    "        players['losers'][part['individualPosition']]['champName'] = part['championName'] \n",
    "        players['losers'][part['individualPosition']]['championLevel'] = part['champLevel']\n",
    "        players['losers'][part['individualPosition']]['championId'] = part['championId']\n",
    "        players['losers'][part['individualPosition']]['riot_team_id'] = part['teamId']\n",
    "        players['losers'][part['individualPosition']]['lane'] = part['individualPosition']"
   ]
  },
  {
   "cell_type": "code",
   "execution_count": 62,
   "metadata": {},
   "outputs": [
    {
     "name": "stdout",
     "output_type": "stream",
     "text": [
      "{'TOP': {'champName': 'Ornn', 'championLevel': 15, 'championId': 516, 'riot_team_id': 100, 'lane': 'TOP'}, 'JUNGLE': {'champName': 'XinZhao', 'championLevel': 16, 'championId': 5, 'riot_team_id': 100, 'lane': 'JUNGLE'}, 'MIDDLE': {'champName': 'Sylas', 'championLevel': 15, 'championId': 517, 'riot_team_id': 100, 'lane': 'MIDDLE'}, 'BOTTOM': {'champName': 'Jhin', 'championLevel': 15, 'championId': 202, 'riot_team_id': 100, 'lane': 'BOTTOM'}, 'UTILITY': {'champName': 'Pyke', 'championLevel': 13, 'championId': 555, 'riot_team_id': 100, 'lane': 'UTILITY'}}\n"
     ]
    }
   ],
   "source": [
    "print(players['winners'])"
   ]
  },
  {
   "cell_type": "code",
   "execution_count": 63,
   "metadata": {},
   "outputs": [
    {
     "name": "stdout",
     "output_type": "stream",
     "text": [
      "{'TOP': {'champName': 'TahmKench', 'championLevel': 14, 'championId': 223, 'riot_team_id': 200, 'lane': 'TOP'}, 'JUNGLE': {'champName': 'Shyvana', 'championLevel': 13, 'championId': 102, 'riot_team_id': 200, 'lane': 'JUNGLE'}, 'MIDDLE': {'champName': 'Viktor', 'championLevel': 14, 'championId': 112, 'riot_team_id': 200, 'lane': 'MIDDLE'}, 'BOTTOM': {'champName': 'Kaisa', 'championLevel': 13, 'championId': 145, 'riot_team_id': 200, 'lane': 'BOTTOM'}, 'UTILITY': {'champName': 'Senna', 'championLevel': 11, 'championId': 235, 'riot_team_id': 200, 'lane': 'UTILITY'}}\n"
     ]
    }
   ],
   "source": [
    "print(players['losers'])"
   ]
  },
  {
   "cell_type": "code",
   "execution_count": 66,
   "metadata": {},
   "outputs": [
    {
     "name": "stdout",
     "output_type": "stream",
     "text": [
      "100\n",
      "True\n",
      "200\n",
      "False\n"
     ]
    }
   ],
   "source": [
    "for team in data['info']['teams']:\n",
    "    print(team['teamId'])\n",
    "    print(team['win'])"
   ]
  },
  {
   "cell_type": "code",
   "execution_count": 67,
   "metadata": {},
   "outputs": [
    {
     "data": {
      "text/plain": [
       "[{'bans': [{'championId': 555, 'pickTurn': 1},\n",
       "   {'championId': 131, 'pickTurn': 2},\n",
       "   {'championId': 157, 'pickTurn': 3},\n",
       "   {'championId': 166, 'pickTurn': 4},\n",
       "   {'championId': 51, 'pickTurn': 5}],\n",
       "  'objectives': {'baron': {'first': False, 'kills': 0},\n",
       "   'champion': {'first': False, 'kills': 34},\n",
       "   'dragon': {'first': True, 'kills': 4},\n",
       "   'inhibitor': {'first': False, 'kills': 2},\n",
       "   'riftHerald': {'first': True, 'kills': 2},\n",
       "   'tower': {'first': True, 'kills': 10}},\n",
       "  'teamId': 100,\n",
       "  'win': True},\n",
       " {'bans': [{'championId': 64, 'pickTurn': 6},\n",
       "   {'championId': 89, 'pickTurn': 7},\n",
       "   {'championId': 221, 'pickTurn': 8},\n",
       "   {'championId': 122, 'pickTurn': 9},\n",
       "   {'championId': 157, 'pickTurn': 10}],\n",
       "  'objectives': {'baron': {'first': True, 'kills': 1},\n",
       "   'champion': {'first': True, 'kills': 35},\n",
       "   'dragon': {'first': False, 'kills': 2},\n",
       "   'inhibitor': {'first': True, 'kills': 1},\n",
       "   'riftHerald': {'first': False, 'kills': 0},\n",
       "   'tower': {'first': False, 'kills': 6}},\n",
       "  'teamId': 200,\n",
       "  'win': False}]"
      ]
     },
     "execution_count": 67,
     "metadata": {},
     "output_type": "execute_result"
    }
   ],
   "source": [
    "data['info']['teams']"
   ]
  },
  {
   "cell_type": "code",
   "execution_count": null,
   "metadata": {},
   "outputs": [],
   "source": []
  }
 ],
 "metadata": {
  "interpreter": {
   "hash": "a81d3fb108a2e93eee648169e123f77f2b1db551eb740e889ab06ef35fc03013"
  },
  "kernelspec": {
   "display_name": "Python 3.8.10 ('.venv')",
   "language": "python",
   "name": "python3"
  },
  "language_info": {
   "codemirror_mode": {
    "name": "ipython",
    "version": 3
   },
   "file_extension": ".py",
   "mimetype": "text/x-python",
   "name": "python",
   "nbconvert_exporter": "python",
   "pygments_lexer": "ipython3",
   "version": "3.8.10"
  },
  "orig_nbformat": 4
 },
 "nbformat": 4,
 "nbformat_minor": 2
}
