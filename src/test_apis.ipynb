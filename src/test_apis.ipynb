{
 "cells": [
  {
   "cell_type": "code",
   "execution_count": 1,
   "metadata": {},
   "outputs": [],
   "source": [
    "import requests"
   ]
  },
  {
   "cell_type": "code",
   "execution_count": 82,
   "metadata": {},
   "outputs": [],
   "source": [
    "count = 900\n",
    "matches = []\n",
    "match = []"
   ]
  },
  {
   "cell_type": "code",
   "execution_count": 86,
   "metadata": {},
   "outputs": [],
   "source": [
    "url = '''https://europe.api.riotgames.com/lol/match/v5/matches/by-puuid/xHjybbgrIZNKZG0osuuaUPzdwb1bXFte_Zm0ELRMHx15_voy-cd1L1be7dR2LsGL7NN-Wv-cke-AJg/ids?count=100&start={}&api_key=RGAPI-ffc1bcb6-133c-4267-a377-36c512c0709d'''.format(count)\n"
   ]
  },
  {
   "cell_type": "code",
   "execution_count": 87,
   "metadata": {},
   "outputs": [],
   "source": [
    "x = requests.get(url).json()"
   ]
  },
  {
   "cell_type": "code",
   "execution_count": 88,
   "metadata": {},
   "outputs": [
    {
     "data": {
      "text/plain": [
       "87"
      ]
     },
     "execution_count": 88,
     "metadata": {},
     "output_type": "execute_result"
    }
   ],
   "source": [
    "len(x)"
   ]
  },
  {
   "cell_type": "code",
   "execution_count": 58,
   "metadata": {},
   "outputs": [
    {
     "name": "stdout",
     "output_type": "stream",
     "text": [
      "https://europe.api.riotgames.com/lol/match/v5/matches/by-puuid/E9ug7UEKAdlZB_EPrMxI67QYx7NNzwuuSNQa-WqPv8YXLEZ4B6U1fV4R38vFRC1ChAD7HYvkG2ZiWg/ids?count=100&start=0&api_key=RGAPI-ffc1bcb6-133c-4267-a377-36c512c0709d\n",
      "100\n",
      "https://europe.api.riotgames.com/lol/match/v5/matches/by-puuid/E9ug7UEKAdlZB_EPrMxI67QYx7NNzwuuSNQa-WqPv8YXLEZ4B6U1fV4R38vFRC1ChAD7HYvkG2ZiWg/ids?count=100&start=100&api_key=RGAPI-ffc1bcb6-133c-4267-a377-36c512c0709d\n",
      "100\n",
      "https://europe.api.riotgames.com/lol/match/v5/matches/by-puuid/E9ug7UEKAdlZB_EPrMxI67QYx7NNzwuuSNQa-WqPv8YXLEZ4B6U1fV4R38vFRC1ChAD7HYvkG2ZiWg/ids?count=100&start=200&api_key=RGAPI-ffc1bcb6-133c-4267-a377-36c512c0709d\n",
      "100\n",
      "https://europe.api.riotgames.com/lol/match/v5/matches/by-puuid/E9ug7UEKAdlZB_EPrMxI67QYx7NNzwuuSNQa-WqPv8YXLEZ4B6U1fV4R38vFRC1ChAD7HYvkG2ZiWg/ids?count=100&start=300&api_key=RGAPI-ffc1bcb6-133c-4267-a377-36c512c0709d\n",
      "100\n",
      "https://europe.api.riotgames.com/lol/match/v5/matches/by-puuid/E9ug7UEKAdlZB_EPrMxI67QYx7NNzwuuSNQa-WqPv8YXLEZ4B6U1fV4R38vFRC1ChAD7HYvkG2ZiWg/ids?count=100&start=400&api_key=RGAPI-ffc1bcb6-133c-4267-a377-36c512c0709d\n",
      "100\n",
      "https://europe.api.riotgames.com/lol/match/v5/matches/by-puuid/E9ug7UEKAdlZB_EPrMxI67QYx7NNzwuuSNQa-WqPv8YXLEZ4B6U1fV4R38vFRC1ChAD7HYvkG2ZiWg/ids?count=100&start=500&api_key=RGAPI-ffc1bcb6-133c-4267-a377-36c512c0709d\n",
      "100\n",
      "https://europe.api.riotgames.com/lol/match/v5/matches/by-puuid/E9ug7UEKAdlZB_EPrMxI67QYx7NNzwuuSNQa-WqPv8YXLEZ4B6U1fV4R38vFRC1ChAD7HYvkG2ZiWg/ids?count=100&start=600&api_key=RGAPI-ffc1bcb6-133c-4267-a377-36c512c0709d\n",
      "100\n",
      "https://europe.api.riotgames.com/lol/match/v5/matches/by-puuid/E9ug7UEKAdlZB_EPrMxI67QYx7NNzwuuSNQa-WqPv8YXLEZ4B6U1fV4R38vFRC1ChAD7HYvkG2ZiWg/ids?count=100&start=700&api_key=RGAPI-ffc1bcb6-133c-4267-a377-36c512c0709d\n",
      "100\n",
      "https://europe.api.riotgames.com/lol/match/v5/matches/by-puuid/E9ug7UEKAdlZB_EPrMxI67QYx7NNzwuuSNQa-WqPv8YXLEZ4B6U1fV4R38vFRC1ChAD7HYvkG2ZiWg/ids?count=100&start=800&api_key=RGAPI-ffc1bcb6-133c-4267-a377-36c512c0709d\n",
      "100\n",
      "https://europe.api.riotgames.com/lol/match/v5/matches/by-puuid/E9ug7UEKAdlZB_EPrMxI67QYx7NNzwuuSNQa-WqPv8YXLEZ4B6U1fV4R38vFRC1ChAD7HYvkG2ZiWg/ids?count=100&start=900&api_key=RGAPI-ffc1bcb6-133c-4267-a377-36c512c0709d\n",
      "less\n",
      "92\n"
     ]
    }
   ],
   "source": [
    "while True:\n",
    "    url = '''https://europe.api.riotgames.com/lol/match/v5/matches/by-puuid/xHjybbgrIZNKZG0osuuaUPzdwb1bXFte_Zm0ELRMHx15_voy-cd1L1be7dR2LsGL7NN-Wv-cke-AJg/ids?count=100&start={}&api_key=RGAPI-ffc1bcb6-133c-4267-a377-36c512c0709d'''.format(count)\n",
    "    print(url)\n",
    "    resp = requests.get(url)\n",
    "\n",
    "    if len(resp.json()) < 100:\n",
    "        print('less')\n",
    "        print(len(resp.json()))\n",
    "        match.append(len(resp.json()))\n",
    "        matches.append(resp.json())\n",
    "        break\n",
    "\n",
    "    matches.append(resp.json())\n",
    "    match.append(len(resp.json()))\n",
    "    count+=100\n",
    "    print(len(resp.json()))"
   ]
  },
  {
   "cell_type": "code",
   "execution_count": 54,
   "metadata": {},
   "outputs": [
    {
     "name": "stdout",
     "output_type": "stream",
     "text": [
      "EUW1_5807067416\n",
      "EUW1_5802113271\n",
      "EUW1_5800697457\n",
      "EUW1_5795342572\n",
      "EUW1_5795246023\n",
      "EUW1_5795225814\n",
      "EUW1_5795171021\n",
      "EUW1_5795093254\n",
      "EUW1_5794987586\n",
      "EUW1_5794973163\n",
      "EUW1_5790708994\n",
      "EUW1_5790691045\n",
      "EUW1_5790604692\n",
      "EUW1_5790527102\n",
      "EUW1_5790440191\n",
      "EUW1_5789321528\n",
      "EUW1_5784449790\n",
      "EUW1_5784522523\n",
      "EUW1_5784368512\n",
      "EUW1_5784430747\n",
      "EUW1_5784325976\n",
      "EUW1_5784272247\n",
      "EUW1_5783021083\n",
      "EUW1_5782836106\n",
      "EUW1_5776724487\n",
      "EUW1_5776741781\n",
      "EUW1_5773959979\n",
      "EUW1_5772640672\n",
      "EUW1_5770943976\n",
      "EUW1_5770859273\n",
      "EUW1_5769729468\n",
      "EUW1_5769784524\n",
      "EUW1_5765410276\n",
      "EUW1_5765404191\n",
      "EUW1_5765290110\n",
      "EUW1_5748151425\n",
      "EUW1_5748094061\n",
      "EUW1_5748005584\n",
      "EUW1_5747830323\n",
      "EUW1_5747881319\n",
      "EUW1_5747735674\n",
      "EUW1_5747489805\n",
      "EUW1_5747425473\n",
      "EUW1_5741946415\n",
      "EUW1_5741868575\n",
      "EUW1_5741641973\n",
      "EUW1_5740259749\n",
      "EUW1_5740291703\n",
      "EUW1_5740180236\n",
      "EUW1_5736125151\n",
      "EUW1_5553051661\n",
      "EUW1_5507360036\n",
      "EUW1_5507383794\n",
      "EUW1_5495712071\n",
      "EUW1_5489572920\n",
      "EUW1_5489246975\n",
      "EUW1_5489179321\n",
      "EUW1_5489085060\n",
      "EUW1_5454606573\n",
      "EUW1_5454569863\n",
      "EUW1_5454535939\n",
      "EUW1_5454562342\n",
      "EUW1_5454399259\n",
      "EUW1_5454455494\n",
      "EUW1_5453997341\n",
      "EUW1_5453992986\n",
      "EUW1_5453908213\n",
      "EUW1_5453942830\n",
      "EUW1_5453857140\n",
      "EUW1_5453811441\n",
      "EUW1_5453764807\n",
      "EUW1_5451908153\n",
      "EUW1_5451923875\n",
      "EUW1_5451766593\n",
      "EUW1_5450784275\n",
      "EUW1_5450699389\n",
      "EUW1_5450724675\n",
      "EUW1_5447131510\n",
      "EUW1_5447036495\n",
      "EUW1_5446994484\n",
      "EUW1_5445674740\n",
      "EUW1_5445650536\n",
      "EUW1_5445547289\n",
      "EUW1_5445604109\n",
      "EUW1_5444474472\n",
      "EUW1_5444300364\n",
      "EUW1_5442406371\n",
      "EUW1_5442335135\n",
      "EUW1_5442381988\n",
      "EUW1_5442360507\n",
      "EUW1_5442288599\n",
      "EUW1_5442315694\n",
      "EUW1_5442294861\n",
      "EUW1_5442244749\n",
      "EUW1_5442224407\n",
      "EUW1_5442021126\n",
      "EUW1_5441975505\n",
      "EUW1_5441971003\n",
      "EUW1_5441910661\n",
      "EUW1_5441755830\n"
     ]
    }
   ],
   "source": [
    "for match in matches[0]:\n",
    "    print(match)"
   ]
  },
  {
   "cell_type": "code",
   "execution_count": 55,
   "metadata": {},
   "outputs": [
    {
     "name": "stdout",
     "output_type": "stream",
     "text": [
      "100\n",
      "100\n",
      "41\n"
     ]
    }
   ],
   "source": [
    "for li in matches:\n",
    "    print(len(li))"
   ]
  },
  {
   "cell_type": "code",
   "execution_count": 7,
   "metadata": {},
   "outputs": [],
   "source": [
    "# for li in matches:\n",
    "    # for id in li:\n",
    "        # detail_url = \"https://europe.api.riotgames.com/lol/match/v5/matches/{}?api_key=RGAPI-7d171723-4d68-4892-a1b0-7efbf12e5caa\".format(id)\n",
    "\n"
   ]
  },
  {
   "cell_type": "code",
   "execution_count": null,
   "metadata": {},
   "outputs": [],
   "source": []
  },
  {
   "cell_type": "code",
   "execution_count": 59,
   "metadata": {},
   "outputs": [],
   "source": [
    "import itertools"
   ]
  },
  {
   "cell_type": "code",
   "execution_count": 60,
   "metadata": {},
   "outputs": [],
   "source": [
    "match_list = list(itertools.chain.from_iterable(matches))"
   ]
  },
  {
   "cell_type": "code",
   "execution_count": 61,
   "metadata": {},
   "outputs": [
    {
     "data": {
      "text/plain": [
       "992"
      ]
     },
     "execution_count": 61,
     "metadata": {},
     "output_type": "execute_result"
    }
   ],
   "source": [
    "len(match_list)"
   ]
  },
  {
   "cell_type": "code",
   "execution_count": 68,
   "metadata": {},
   "outputs": [
    {
     "data": {
      "text/plain": [
       "'EUW1_5146047974'"
      ]
     },
     "execution_count": 68,
     "metadata": {},
     "output_type": "execute_result"
    }
   ],
   "source": [
    "match_list[-1]"
   ]
  },
  {
   "cell_type": "code",
   "execution_count": 12,
   "metadata": {},
   "outputs": [],
   "source": [
    "import time"
   ]
  },
  {
   "cell_type": "code",
   "execution_count": 15,
   "metadata": {},
   "outputs": [],
   "source": [
    "\n",
    "data = None\n",
    "for id in match_list:\n",
    "    detail_url = \"https://europe.api.riotgames.com/lol/match/v5/matches/{}?api_key=RGAPI-ffc1bcb6-133c-4267-a377-36c512c0709d\".format(id)\n",
    "    resp = requests.get(detail_url)\n",
    "    data = resp.json()\n",
    "\n",
    "\n",
    "    break\n",
    "    \n",
    "\n"
   ]
  },
  {
   "cell_type": "code",
   "execution_count": 16,
   "metadata": {},
   "outputs": [
    {
     "data": {
      "text/plain": [
       "dict_keys(['metadata', 'info'])"
      ]
     },
     "execution_count": 16,
     "metadata": {},
     "output_type": "execute_result"
    }
   ],
   "source": [
    "data.keys()"
   ]
  },
  {
   "cell_type": "code",
   "execution_count": 17,
   "metadata": {},
   "outputs": [
    {
     "data": {
      "text/plain": [
       "{'dataVersion': '2',\n",
       " 'matchId': 'EUW1_5807455329',\n",
       " 'participants': ['r9546Bne4WkjECstq_K9rYpAxbDsGUJ9gPMN-zAObHaHBNOsZZDDKxaRZuIEjkFNue4A6sVZcMaQNA',\n",
       "  'utd1jlBRALdBMTq86JO5tTgswT2s3aaRSK1633EVkwwNlyYA0K8iwiFjdW9glQWiLNb1PmqQla41AQ',\n",
       "  'F9IC4V4TDS3kWdtfJ2RR_NYCtNWhz76vc_5PvmsdlQVvGlH3TunkOdoV5wRckQz9MDaiZr7tSzHZ5g',\n",
       "  'E9ug7UEKAdlZB_EPrMxI67QYx7NNzwuuSNQa-WqPv8YXLEZ4B6U1fV4R38vFRC1ChAD7HYvkG2ZiWg',\n",
       "  'xHjybbgrIZNKZG0osuuaUPzdwb1bXFte_Zm0ELRMHx15_voy-cd1L1be7dR2LsGL7NN-Wv-cke-AJg',\n",
       "  'DQwpcMCuM8ly1e_y3NwI_6MKAmZakO6FA7NpxlUuedY5LWh2jBY_HSZwqDGKuiE5WwDXvAiaN_S84g',\n",
       "  'Fizb4_B8mCnIs4lQCzvMl0eyt9iTppWTO7BXYYNKzvdEyb-pypPSXObh2jx1H5LeQDo8Qh7-xAGu3Q',\n",
       "  '_V556rXmhCghQ2J2UfW1K6FlceK1Fe_lFwRqR3KANmZEndfj_mYBK3PZpGr-c5Wj6LuoiVunl8jlgQ',\n",
       "  'QRv0_vUFMAA7a_Q59jmGZ8FafsbOcKHUQrL0CjvmYYPNAa8kWcpkMvSdpxoUQP0U3Q7EiZfLYJhv2w',\n",
       "  '42xSe6xbUISysRE-_9OU6WYiPvSa3355y1Z0LuZIhzNi-7J5pG5mIDQecnF8SUTVXXoA5CLjeJueBA']}"
      ]
     },
     "execution_count": 17,
     "metadata": {},
     "output_type": "execute_result"
    }
   ],
   "source": [
    "data['metadata']"
   ]
  },
  {
   "cell_type": "code",
   "execution_count": 18,
   "metadata": {},
   "outputs": [
    {
     "data": {
      "text/plain": [
       "dict_keys(['gameCreation', 'gameDuration', 'gameEndTimestamp', 'gameId', 'gameMode', 'gameName', 'gameStartTimestamp', 'gameType', 'gameVersion', 'mapId', 'participants', 'platformId', 'queueId', 'teams', 'tournamentCode'])"
      ]
     },
     "execution_count": 18,
     "metadata": {},
     "output_type": "execute_result"
    }
   ],
   "source": [
    "data['info'].keys()"
   ]
  },
  {
   "cell_type": "code",
   "execution_count": 38,
   "metadata": {},
   "outputs": [
    {
     "data": {
      "text/plain": [
       "'12'"
      ]
     },
     "execution_count": 38,
     "metadata": {},
     "output_type": "execute_result"
    }
   ],
   "source": [
    "data['info']['gameVersion'].split('.')[0]"
   ]
  },
  {
   "cell_type": "code",
   "execution_count": 31,
   "metadata": {},
   "outputs": [
    {
     "data": {
      "text/plain": [
       "400"
      ]
     },
     "execution_count": 31,
     "metadata": {},
     "output_type": "execute_result"
    }
   ],
   "source": [
    "data['info']['queueId']"
   ]
  },
  {
   "cell_type": "code",
   "execution_count": 39,
   "metadata": {},
   "outputs": [
    {
     "data": {
      "text/plain": [
       "1649020227000"
      ]
     },
     "execution_count": 39,
     "metadata": {},
     "output_type": "execute_result"
    }
   ],
   "source": [
    "data['info']['gameCreation']"
   ]
  },
  {
   "cell_type": "code",
   "execution_count": 40,
   "metadata": {},
   "outputs": [
    {
     "data": {
      "text/plain": [
       "1649020313947"
      ]
     },
     "execution_count": 40,
     "metadata": {},
     "output_type": "execute_result"
    }
   ],
   "source": [
    "data['info']['gameStartTimestamp']"
   ]
  },
  {
   "cell_type": "code",
   "execution_count": 21,
   "metadata": {},
   "outputs": [],
   "source": [
    "from constants import Constants\n"
   ]
  },
  {
   "cell_type": "code",
   "execution_count": 34,
   "metadata": {},
   "outputs": [
    {
     "name": "stdout",
     "output_type": "stream",
     "text": [
      "normal_draft\n"
     ]
    }
   ],
   "source": [
    "for item in Constants.constant_dict['queue_ids'].items():\n",
    "    if item[1] == '400':\n",
    "        print(item[0])\n"
   ]
  },
  {
   "cell_type": "code",
   "execution_count": 59,
   "metadata": {},
   "outputs": [
    {
     "data": {
      "text/plain": [
       "dict_keys(['assists', 'baronKills', 'bountyLevel', 'challenges', 'champExperience', 'champLevel', 'championId', 'championName', 'championTransform', 'consumablesPurchased', 'damageDealtToBuildings', 'damageDealtToObjectives', 'damageDealtToTurrets', 'damageSelfMitigated', 'deaths', 'detectorWardsPlaced', 'doubleKills', 'dragonKills', 'firstBloodAssist', 'firstBloodKill', 'firstTowerAssist', 'firstTowerKill', 'gameEndedInEarlySurrender', 'gameEndedInSurrender', 'goldEarned', 'goldSpent', 'individualPosition', 'inhibitorKills', 'inhibitorTakedowns', 'inhibitorsLost', 'item0', 'item1', 'item2', 'item3', 'item4', 'item5', 'item6', 'itemsPurchased', 'killingSprees', 'kills', 'lane', 'largestCriticalStrike', 'largestKillingSpree', 'largestMultiKill', 'longestTimeSpentLiving', 'magicDamageDealt', 'magicDamageDealtToChampions', 'magicDamageTaken', 'neutralMinionsKilled', 'nexusKills', 'nexusLost', 'nexusTakedowns', 'objectivesStolen', 'objectivesStolenAssists', 'participantId', 'pentaKills', 'perks', 'physicalDamageDealt', 'physicalDamageDealtToChampions', 'physicalDamageTaken', 'profileIcon', 'puuid', 'quadraKills', 'riotIdName', 'riotIdTagline', 'role', 'sightWardsBoughtInGame', 'spell1Casts', 'spell2Casts', 'spell3Casts', 'spell4Casts', 'summoner1Casts', 'summoner1Id', 'summoner2Casts', 'summoner2Id', 'summonerId', 'summonerLevel', 'summonerName', 'teamEarlySurrendered', 'teamId', 'teamPosition', 'timeCCingOthers', 'timePlayed', 'totalDamageDealt', 'totalDamageDealtToChampions', 'totalDamageShieldedOnTeammates', 'totalDamageTaken', 'totalHeal', 'totalHealsOnTeammates', 'totalMinionsKilled', 'totalTimeCCDealt', 'totalTimeSpentDead', 'totalUnitsHealed', 'tripleKills', 'trueDamageDealt', 'trueDamageDealtToChampions', 'trueDamageTaken', 'turretKills', 'turretTakedowns', 'turretsLost', 'unrealKills', 'visionScore', 'visionWardsBoughtInGame', 'wardsKilled', 'wardsPlaced', 'win'])"
      ]
     },
     "execution_count": 59,
     "metadata": {},
     "output_type": "execute_result"
    }
   ],
   "source": [
    "data['info']['participants'][0].keys()"
   ]
  },
  {
   "cell_type": "code",
   "execution_count": 72,
   "metadata": {},
   "outputs": [
    {
     "name": "stdout",
     "output_type": "stream",
     "text": [
      "Asa7\n",
      "160\n",
      "eYQnn0wS-Bnx7JG3ZIWyrchDgnSJwjbU4t9pTL-8wKQohFM\n",
      "100\n",
      "TOP\n",
      "Ntovestamona\n",
      "86\n",
      "CRh0hN05TUSm7wErQP57vu7-BfK3K_5XPS9JeLUqPmldeDCtFIhuFQMGsA\n",
      "100\n",
      "JUNGLE\n",
      "Miraqueburtillo\n",
      "104\n",
      "cbdyz61rx22ww8Orxo4ZNs2VxN9sd31YylqBj-lQh0q9ajnL79FUyHwJbw\n",
      "100\n",
      "MIDDLE\n",
      "Camzouille\n",
      "106\n",
      "tFaHW-NlhL1kDxP7ZvYWNDSHCOfAZ0NFRTJSDb0qyxX-nO4\n",
      "100\n",
      "BOTTOM\n",
      "Auracxe\n",
      "64\n",
      "_yxPra77nyRS-YuqADMppQ0sph8eai5gs1TXAQlRGhlZ2IY\n",
      "100\n",
      "UTILITY\n",
      "92tb\n",
      "86\n",
      "xxIbSZ15nzXC8mDlootDrnD1Vxklsz8G87hYG9fSKoNj1jP5iWRZha_1AA\n",
      "200\n",
      "TOP\n",
      "Mr Sunshíne\n",
      "251\n",
      "VoPTmqSR6UukgTNfFT6l90s6mn5iqiOh-Nu8sZtYYeSx5uI\n",
      "200\n",
      "JUNGLE\n",
      "staulk\n",
      "90\n",
      "CZnyIdp0khFyE5D6M30uRtC-CAwJIrnS0QmxIcjD9mTmB9Y\n",
      "200\n",
      "MIDDLE\n",
      "taihim672\n",
      "331\n",
      "_QDQfG3lkY7U7oR_jo_LfG68ZCwlEDMfcn5dKJfsEftF4_M\n",
      "200\n",
      "BOTTOM\n",
      "DJBraavo\n",
      "49\n",
      "7bWxEiZ185eRNdCZeOc6KkTUa0eQqIik0jnOMM2QCvRZN1_YOTdSrc58fA\n",
      "200\n",
      "UTILITY\n"
     ]
    }
   ],
   "source": [
    "for part in data['info']['participants']: \n",
    "    print(part['summonerName'])\n",
    "    print(part['summonerLevel'])\n",
    "    print(part['summonerId'])\n",
    "    print(part['teamId'])\n",
    "    print(part['individualPosition'])\n"
   ]
  },
  {
   "cell_type": "code",
   "execution_count": 66,
   "metadata": {},
   "outputs": [
    {
     "name": "stdout",
     "output_type": "stream",
     "text": [
      "100\n",
      "True\n",
      "200\n",
      "False\n"
     ]
    }
   ],
   "source": [
    "for team in data['info']['teams']:\n",
    "    print(team['teamId'])\n",
    "    print(team['win'])"
   ]
  },
  {
   "cell_type": "code",
   "execution_count": 67,
   "metadata": {},
   "outputs": [
    {
     "data": {
      "text/plain": [
       "[{'bans': [{'championId': 555, 'pickTurn': 1},\n",
       "   {'championId': 131, 'pickTurn': 2},\n",
       "   {'championId': 157, 'pickTurn': 3},\n",
       "   {'championId': 166, 'pickTurn': 4},\n",
       "   {'championId': 51, 'pickTurn': 5}],\n",
       "  'objectives': {'baron': {'first': False, 'kills': 0},\n",
       "   'champion': {'first': False, 'kills': 34},\n",
       "   'dragon': {'first': True, 'kills': 4},\n",
       "   'inhibitor': {'first': False, 'kills': 2},\n",
       "   'riftHerald': {'first': True, 'kills': 2},\n",
       "   'tower': {'first': True, 'kills': 10}},\n",
       "  'teamId': 100,\n",
       "  'win': True},\n",
       " {'bans': [{'championId': 64, 'pickTurn': 6},\n",
       "   {'championId': 89, 'pickTurn': 7},\n",
       "   {'championId': 221, 'pickTurn': 8},\n",
       "   {'championId': 122, 'pickTurn': 9},\n",
       "   {'championId': 157, 'pickTurn': 10}],\n",
       "  'objectives': {'baron': {'first': True, 'kills': 1},\n",
       "   'champion': {'first': True, 'kills': 35},\n",
       "   'dragon': {'first': False, 'kills': 2},\n",
       "   'inhibitor': {'first': True, 'kills': 1},\n",
       "   'riftHerald': {'first': False, 'kills': 0},\n",
       "   'tower': {'first': False, 'kills': 6}},\n",
       "  'teamId': 200,\n",
       "  'win': False}]"
      ]
     },
     "execution_count": 67,
     "metadata": {},
     "output_type": "execute_result"
    }
   ],
   "source": [
    "data['info']['teams']"
   ]
  },
  {
   "cell_type": "code",
   "execution_count": null,
   "metadata": {},
   "outputs": [],
   "source": []
  }
 ],
 "metadata": {
  "interpreter": {
   "hash": "a81d3fb108a2e93eee648169e123f77f2b1db551eb740e889ab06ef35fc03013"
  },
  "kernelspec": {
   "display_name": "Python 3.8.10 ('.venv')",
   "language": "python",
   "name": "python3"
  },
  "language_info": {
   "codemirror_mode": {
    "name": "ipython",
    "version": 3
   },
   "file_extension": ".py",
   "mimetype": "text/x-python",
   "name": "python",
   "nbconvert_exporter": "python",
   "pygments_lexer": "ipython3",
   "version": "3.8.10"
  },
  "orig_nbformat": 4
 },
 "nbformat": 4,
 "nbformat_minor": 2
}
