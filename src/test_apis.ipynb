{
 "cells": [
  {
   "cell_type": "code",
   "execution_count": 2,
   "metadata": {},
   "outputs": [],
   "source": [
    "import requests"
   ]
  },
  {
   "cell_type": "code",
   "execution_count": 21,
   "metadata": {},
   "outputs": [],
   "source": [
    "count = 0\n",
    "matches = []\n",
    "match = []"
   ]
  },
  {
   "cell_type": "code",
   "execution_count": 22,
   "metadata": {},
   "outputs": [
    {
     "name": "stdout",
     "output_type": "stream",
     "text": [
      "https://europe.api.riotgames.com/lol/match/v5/matches/by-puuid/xHjybbgrIZNKZG0osuuaUPzdwb1bXFte_Zm0ELRMHx15_voy-cd1L1be7dR2LsGL7NN-Wv-cke-AJg/ids?count=100&start=0&api_key=RGAPI-7d171723-4d68-4892-a1b0-7efbf12e5caa\n",
      "100\n",
      "https://europe.api.riotgames.com/lol/match/v5/matches/by-puuid/xHjybbgrIZNKZG0osuuaUPzdwb1bXFte_Zm0ELRMHx15_voy-cd1L1be7dR2LsGL7NN-Wv-cke-AJg/ids?count=100&start=100&api_key=RGAPI-7d171723-4d68-4892-a1b0-7efbf12e5caa\n",
      "100\n",
      "https://europe.api.riotgames.com/lol/match/v5/matches/by-puuid/xHjybbgrIZNKZG0osuuaUPzdwb1bXFte_Zm0ELRMHx15_voy-cd1L1be7dR2LsGL7NN-Wv-cke-AJg/ids?count=100&start=200&api_key=RGAPI-7d171723-4d68-4892-a1b0-7efbf12e5caa\n",
      "100\n",
      "https://europe.api.riotgames.com/lol/match/v5/matches/by-puuid/xHjybbgrIZNKZG0osuuaUPzdwb1bXFte_Zm0ELRMHx15_voy-cd1L1be7dR2LsGL7NN-Wv-cke-AJg/ids?count=100&start=300&api_key=RGAPI-7d171723-4d68-4892-a1b0-7efbf12e5caa\n",
      "100\n",
      "https://europe.api.riotgames.com/lol/match/v5/matches/by-puuid/xHjybbgrIZNKZG0osuuaUPzdwb1bXFte_Zm0ELRMHx15_voy-cd1L1be7dR2LsGL7NN-Wv-cke-AJg/ids?count=100&start=400&api_key=RGAPI-7d171723-4d68-4892-a1b0-7efbf12e5caa\n",
      "100\n",
      "https://europe.api.riotgames.com/lol/match/v5/matches/by-puuid/xHjybbgrIZNKZG0osuuaUPzdwb1bXFte_Zm0ELRMHx15_voy-cd1L1be7dR2LsGL7NN-Wv-cke-AJg/ids?count=100&start=500&api_key=RGAPI-7d171723-4d68-4892-a1b0-7efbf12e5caa\n",
      "100\n",
      "https://europe.api.riotgames.com/lol/match/v5/matches/by-puuid/xHjybbgrIZNKZG0osuuaUPzdwb1bXFte_Zm0ELRMHx15_voy-cd1L1be7dR2LsGL7NN-Wv-cke-AJg/ids?count=100&start=600&api_key=RGAPI-7d171723-4d68-4892-a1b0-7efbf12e5caa\n",
      "100\n",
      "https://europe.api.riotgames.com/lol/match/v5/matches/by-puuid/xHjybbgrIZNKZG0osuuaUPzdwb1bXFte_Zm0ELRMHx15_voy-cd1L1be7dR2LsGL7NN-Wv-cke-AJg/ids?count=100&start=700&api_key=RGAPI-7d171723-4d68-4892-a1b0-7efbf12e5caa\n",
      "100\n",
      "https://europe.api.riotgames.com/lol/match/v5/matches/by-puuid/xHjybbgrIZNKZG0osuuaUPzdwb1bXFte_Zm0ELRMHx15_voy-cd1L1be7dR2LsGL7NN-Wv-cke-AJg/ids?count=100&start=800&api_key=RGAPI-7d171723-4d68-4892-a1b0-7efbf12e5caa\n",
      "100\n",
      "https://europe.api.riotgames.com/lol/match/v5/matches/by-puuid/xHjybbgrIZNKZG0osuuaUPzdwb1bXFte_Zm0ELRMHx15_voy-cd1L1be7dR2LsGL7NN-Wv-cke-AJg/ids?count=100&start=900&api_key=RGAPI-7d171723-4d68-4892-a1b0-7efbf12e5caa\n",
      "less\n",
      "86\n"
     ]
    }
   ],
   "source": [
    "while True:\n",
    "    url = '''https://europe.api.riotgames.com/lol/match/v5/matches/by-puuid/xHjybbgrIZNKZG0osuuaUPzdwb1bXFte_Zm0ELRMHx15_voy-cd1L1be7dR2LsGL7NN-Wv-cke-AJg/ids?count=100&start={}&api_key=RGAPI-7d171723-4d68-4892-a1b0-7efbf12e5caa'''.format(count)\n",
    "    print(url)\n",
    "    resp = requests.get(url)\n",
    "    \n",
    "    if len(resp.json()) < 100:\n",
    "        print('less')\n",
    "        print(len(resp.json()))\n",
    "        match.append(len(resp.json()))\n",
    "        matches.append(resp.json())\n",
    "        break\n",
    "\n",
    "    matches.append(resp.json())\n",
    "    match.append(len(resp.json()))\n",
    "    count+=100\n",
    "    print(len(resp.json()))"
   ]
  },
  {
   "cell_type": "code",
   "execution_count": 23,
   "metadata": {},
   "outputs": [
    {
     "data": {
      "text/plain": [
       "[100, 100, 100, 100, 100, 100, 100, 100, 100, 86]"
      ]
     },
     "execution_count": 23,
     "metadata": {},
     "output_type": "execute_result"
    }
   ],
   "source": [
    "match"
   ]
  },
  {
   "cell_type": "code",
   "execution_count": 25,
   "metadata": {},
   "outputs": [
    {
     "name": "stdout",
     "output_type": "stream",
     "text": [
      "100\n",
      "100\n",
      "100\n",
      "100\n",
      "100\n",
      "100\n",
      "100\n",
      "100\n",
      "100\n",
      "86\n"
     ]
    }
   ],
   "source": [
    "for li in matches:\n",
    "    print(len(li))"
   ]
  },
  {
   "cell_type": "code",
   "execution_count": null,
   "metadata": {},
   "outputs": [],
   "source": []
  }
 ],
 "metadata": {
  "interpreter": {
   "hash": "a81d3fb108a2e93eee648169e123f77f2b1db551eb740e889ab06ef35fc03013"
  },
  "kernelspec": {
   "display_name": "Python 3.8.10 ('.venv')",
   "language": "python",
   "name": "python3"
  },
  "language_info": {
   "codemirror_mode": {
    "name": "ipython",
    "version": 3
   },
   "file_extension": ".py",
   "mimetype": "text/x-python",
   "name": "python",
   "nbconvert_exporter": "python",
   "pygments_lexer": "ipython3",
   "version": "3.8.10"
  },
  "orig_nbformat": 4
 },
 "nbformat": 4,
 "nbformat_minor": 2
}
