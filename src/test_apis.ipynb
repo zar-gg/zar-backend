{
 "cells": [
  {
   "cell_type": "code",
   "execution_count": 2,
   "metadata": {},
   "outputs": [],
   "source": [
    "import requests"
   ]
  },
  {
   "cell_type": "code",
   "execution_count": 28,
   "metadata": {},
   "outputs": [],
   "source": [
    "count = 0\n",
    "matches = []\n",
    "match = []"
   ]
  },
  {
   "cell_type": "code",
   "execution_count": 73,
   "metadata": {},
   "outputs": [
    {
     "name": "stdout",
     "output_type": "stream",
     "text": [
      "https://europe.api.riotgames.com/lol/match/v5/matches/by-puuid/xHjybbgrIZNKZG0osuuaUPzdwb1bXFte_Zm0ELRMHx15_voy-cd1L1be7dR2LsGL7NN-Wv-cke-AJg/ids?count=10&start=0&api_key=RGAPI-7d171723-4d68-4892-a1b0-7efbf12e5caa\n",
      "less\n",
      "10\n"
     ]
    }
   ],
   "source": [
    "for i in range(1):\n",
    "    url = '''https://europe.api.riotgames.com/lol/match/v5/matches/by-puuid/xHjybbgrIZNKZG0osuuaUPzdwb1bXFte_Zm0ELRMHx15_voy-cd1L1be7dR2LsGL7NN-Wv-cke-AJg/ids?count=10&start={}&api_key=RGAPI-7d171723-4d68-4892-a1b0-7efbf12e5caa'''.format(count)\n",
    "    print(url)\n",
    "    resp = requests.get(url)\n",
    "\n",
    "    if len(resp.json()) < 100:\n",
    "        print('less')\n",
    "        print(len(resp.json()))\n",
    "        match.append(len(resp.json()))\n",
    "        matches.append(resp.json())\n",
    "        break\n",
    "\n",
    "    matches.append(resp.json())\n",
    "    match.append(len(resp.json()))\n",
    "    count+=100\n",
    "    print(len(resp.json()))"
   ]
  },
  {
   "cell_type": "code",
   "execution_count": 77,
   "metadata": {},
   "outputs": [
    {
     "name": "stdout",
     "output_type": "stream",
     "text": [
      "EUW1_5795342572\n",
      "EUW1_5795246023\n",
      "EUW1_5795225814\n",
      "EUW1_5795171021\n",
      "EUW1_5795093254\n",
      "EUW1_5794987586\n",
      "EUW1_5794973163\n",
      "EUW1_5790708994\n",
      "EUW1_5790691045\n",
      "EUW1_5790604692\n"
     ]
    }
   ],
   "source": [
    "for match in matches[0]:\n",
    "    print(match)"
   ]
  },
  {
   "cell_type": "code",
   "execution_count": 31,
   "metadata": {},
   "outputs": [
    {
     "name": "stdout",
     "output_type": "stream",
     "text": [
      "10\n"
     ]
    }
   ],
   "source": [
    "for li in matches:\n",
    "    print(len(li))"
   ]
  },
  {
   "cell_type": "code",
   "execution_count": 7,
   "metadata": {},
   "outputs": [],
   "source": [
    "# for li in matches:\n",
    "    # for id in li:\n",
    "        # detail_url = \"https://europe.api.riotgames.com/lol/match/v5/matches/{}?api_key=RGAPI-7d171723-4d68-4892-a1b0-7efbf12e5caa\".format(id)\n",
    "\n"
   ]
  },
  {
   "cell_type": "code",
   "execution_count": null,
   "metadata": {},
   "outputs": [],
   "source": []
  },
  {
   "cell_type": "code",
   "execution_count": 34,
   "metadata": {},
   "outputs": [],
   "source": [
    "import itertools"
   ]
  },
  {
   "cell_type": "code",
   "execution_count": 35,
   "metadata": {},
   "outputs": [],
   "source": [
    "match_list = list(itertools.chain.from_iterable(matches))"
   ]
  },
  {
   "cell_type": "code",
   "execution_count": 37,
   "metadata": {},
   "outputs": [
    {
     "data": {
      "text/plain": [
       "['EUW1_5795342572',\n",
       " 'EUW1_5795246023',\n",
       " 'EUW1_5795225814',\n",
       " 'EUW1_5795171021',\n",
       " 'EUW1_5795093254',\n",
       " 'EUW1_5794987586',\n",
       " 'EUW1_5794973163',\n",
       " 'EUW1_5790708994',\n",
       " 'EUW1_5790691045',\n",
       " 'EUW1_5790604692']"
      ]
     },
     "execution_count": 37,
     "metadata": {},
     "output_type": "execute_result"
    }
   ],
   "source": [
    "match_list"
   ]
  },
  {
   "cell_type": "code",
   "execution_count": 38,
   "metadata": {},
   "outputs": [],
   "source": [
    "import time"
   ]
  },
  {
   "cell_type": "code",
   "execution_count": 41,
   "metadata": {},
   "outputs": [],
   "source": [
    "\n",
    "data = None\n",
    "for id in match_list:\n",
    "    detail_url = \"https://europe.api.riotgames.com/lol/match/v5/matches/{}?api_key=RGAPI-7d171723-4d68-4892-a1b0-7efbf12e5caa\".format(id)\n",
    "    resp = requests.get(detail_url)\n",
    "    data = resp.json()\n",
    "\n",
    "\n",
    "    break\n",
    "    \n",
    "\n"
   ]
  },
  {
   "cell_type": "code",
   "execution_count": 42,
   "metadata": {},
   "outputs": [
    {
     "data": {
      "text/plain": [
       "dict_keys(['metadata', 'info'])"
      ]
     },
     "execution_count": 42,
     "metadata": {},
     "output_type": "execute_result"
    }
   ],
   "source": [
    "data.keys()"
   ]
  },
  {
   "cell_type": "code",
   "execution_count": 43,
   "metadata": {},
   "outputs": [
    {
     "data": {
      "text/plain": [
       "{'dataVersion': '2',\n",
       " 'matchId': 'EUW1_5795342572',\n",
       " 'participants': ['YCtaJBYSUUdAuL4TirCA3ZkGSYFHTBHOKd10_pr36ToQ5JvdqLRGN1UYw7N8XFYQATiTFFYGAt5m0w',\n",
       "  'qKeoWUe7wdWbXz_WLUPjpigL3kEVoeBgXFiSQmIUFwnYvk_dNcKMWyzozsnTzfaTSp9Vi-71syyt6A',\n",
       "  'Kp8OT44YnOpw-d53kz1odKr_5SrEqJ7PtkugDJcFHSIhhAeyaFU_3Y2tuS7gSzbIRJpgQ7_Ex7vuDw',\n",
       "  'g4tWB8SeeGZJO0DkD1Jg0EdRuge2ChtLZYA8TXHtI4Hyj_ACLlGHjc07ZY9YjvtuyNcGIH4Y3TdEnQ',\n",
       "  '5JXIzuZYM5re-Gyyc7mHA7TmOKB6BkyUvyQDdgd92Z1usmoLcnlxdbUp5PdyZQbZqL0YUym_qtzOxw',\n",
       "  '3rBCH3WUHFkUsV07R_sCS4xXNhYrvfnyH-t9NNz_BAaYzC-gnn-FIKV1XOdSSulIJKLz4HV3x8GLKA',\n",
       "  'dTpFcu0D4nVHFJxMZyo_0JP4N5DhRocWPspizZU_Zs9E30yxLTXgEaaDBL462TDtt5CG50_tQbnG-Q',\n",
       "  'd8bQFhz-YLu_dfHDDLg9VGMWcPqVPOQgf0ixY1Q10jBORzA_MGoWjaL8S_FJgWFCpzQ_9YFg9jmncQ',\n",
       "  'xHjybbgrIZNKZG0osuuaUPzdwb1bXFte_Zm0ELRMHx15_voy-cd1L1be7dR2LsGL7NN-Wv-cke-AJg',\n",
       "  'F9IC4V4TDS3kWdtfJ2RR_NYCtNWhz76vc_5PvmsdlQVvGlH3TunkOdoV5wRckQz9MDaiZr7tSzHZ5g']}"
      ]
     },
     "execution_count": 43,
     "metadata": {},
     "output_type": "execute_result"
    }
   ],
   "source": [
    "data['metadata']"
   ]
  },
  {
   "cell_type": "code",
   "execution_count": 49,
   "metadata": {},
   "outputs": [
    {
     "data": {
      "text/plain": [
       "dict_keys(['gameCreation', 'gameDuration', 'gameEndTimestamp', 'gameId', 'gameMode', 'gameName', 'gameStartTimestamp', 'gameType', 'gameVersion', 'mapId', 'participants', 'platformId', 'queueId', 'teams', 'tournamentCode'])"
      ]
     },
     "execution_count": 49,
     "metadata": {},
     "output_type": "execute_result"
    }
   ],
   "source": [
    "data['info'].keys()"
   ]
  },
  {
   "cell_type": "code",
   "execution_count": 59,
   "metadata": {},
   "outputs": [
    {
     "data": {
      "text/plain": [
       "dict_keys(['assists', 'baronKills', 'bountyLevel', 'challenges', 'champExperience', 'champLevel', 'championId', 'championName', 'championTransform', 'consumablesPurchased', 'damageDealtToBuildings', 'damageDealtToObjectives', 'damageDealtToTurrets', 'damageSelfMitigated', 'deaths', 'detectorWardsPlaced', 'doubleKills', 'dragonKills', 'firstBloodAssist', 'firstBloodKill', 'firstTowerAssist', 'firstTowerKill', 'gameEndedInEarlySurrender', 'gameEndedInSurrender', 'goldEarned', 'goldSpent', 'individualPosition', 'inhibitorKills', 'inhibitorTakedowns', 'inhibitorsLost', 'item0', 'item1', 'item2', 'item3', 'item4', 'item5', 'item6', 'itemsPurchased', 'killingSprees', 'kills', 'lane', 'largestCriticalStrike', 'largestKillingSpree', 'largestMultiKill', 'longestTimeSpentLiving', 'magicDamageDealt', 'magicDamageDealtToChampions', 'magicDamageTaken', 'neutralMinionsKilled', 'nexusKills', 'nexusLost', 'nexusTakedowns', 'objectivesStolen', 'objectivesStolenAssists', 'participantId', 'pentaKills', 'perks', 'physicalDamageDealt', 'physicalDamageDealtToChampions', 'physicalDamageTaken', 'profileIcon', 'puuid', 'quadraKills', 'riotIdName', 'riotIdTagline', 'role', 'sightWardsBoughtInGame', 'spell1Casts', 'spell2Casts', 'spell3Casts', 'spell4Casts', 'summoner1Casts', 'summoner1Id', 'summoner2Casts', 'summoner2Id', 'summonerId', 'summonerLevel', 'summonerName', 'teamEarlySurrendered', 'teamId', 'teamPosition', 'timeCCingOthers', 'timePlayed', 'totalDamageDealt', 'totalDamageDealtToChampions', 'totalDamageShieldedOnTeammates', 'totalDamageTaken', 'totalHeal', 'totalHealsOnTeammates', 'totalMinionsKilled', 'totalTimeCCDealt', 'totalTimeSpentDead', 'totalUnitsHealed', 'tripleKills', 'trueDamageDealt', 'trueDamageDealtToChampions', 'trueDamageTaken', 'turretKills', 'turretTakedowns', 'turretsLost', 'unrealKills', 'visionScore', 'visionWardsBoughtInGame', 'wardsKilled', 'wardsPlaced', 'win'])"
      ]
     },
     "execution_count": 59,
     "metadata": {},
     "output_type": "execute_result"
    }
   ],
   "source": [
    "data['info']['participants'][0].keys()"
   ]
  },
  {
   "cell_type": "code",
   "execution_count": 72,
   "metadata": {},
   "outputs": [
    {
     "name": "stdout",
     "output_type": "stream",
     "text": [
      "Asa7\n",
      "160\n",
      "eYQnn0wS-Bnx7JG3ZIWyrchDgnSJwjbU4t9pTL-8wKQohFM\n",
      "100\n",
      "TOP\n",
      "Ntovestamona\n",
      "86\n",
      "CRh0hN05TUSm7wErQP57vu7-BfK3K_5XPS9JeLUqPmldeDCtFIhuFQMGsA\n",
      "100\n",
      "JUNGLE\n",
      "Miraqueburtillo\n",
      "104\n",
      "cbdyz61rx22ww8Orxo4ZNs2VxN9sd31YylqBj-lQh0q9ajnL79FUyHwJbw\n",
      "100\n",
      "MIDDLE\n",
      "Camzouille\n",
      "106\n",
      "tFaHW-NlhL1kDxP7ZvYWNDSHCOfAZ0NFRTJSDb0qyxX-nO4\n",
      "100\n",
      "BOTTOM\n",
      "Auracxe\n",
      "64\n",
      "_yxPra77nyRS-YuqADMppQ0sph8eai5gs1TXAQlRGhlZ2IY\n",
      "100\n",
      "UTILITY\n",
      "92tb\n",
      "86\n",
      "xxIbSZ15nzXC8mDlootDrnD1Vxklsz8G87hYG9fSKoNj1jP5iWRZha_1AA\n",
      "200\n",
      "TOP\n",
      "Mr Sunshíne\n",
      "251\n",
      "VoPTmqSR6UukgTNfFT6l90s6mn5iqiOh-Nu8sZtYYeSx5uI\n",
      "200\n",
      "JUNGLE\n",
      "staulk\n",
      "90\n",
      "CZnyIdp0khFyE5D6M30uRtC-CAwJIrnS0QmxIcjD9mTmB9Y\n",
      "200\n",
      "MIDDLE\n",
      "taihim672\n",
      "331\n",
      "_QDQfG3lkY7U7oR_jo_LfG68ZCwlEDMfcn5dKJfsEftF4_M\n",
      "200\n",
      "BOTTOM\n",
      "DJBraavo\n",
      "49\n",
      "7bWxEiZ185eRNdCZeOc6KkTUa0eQqIik0jnOMM2QCvRZN1_YOTdSrc58fA\n",
      "200\n",
      "UTILITY\n"
     ]
    }
   ],
   "source": [
    "for part in data['info']['participants']: \n",
    "    print(part['summonerName'])\n",
    "    print(part['summonerLevel'])\n",
    "    print(part['summonerId'])\n",
    "    print(part['teamId'])\n",
    "    print(part['individualPosition'])\n"
   ]
  },
  {
   "cell_type": "code",
   "execution_count": 66,
   "metadata": {},
   "outputs": [
    {
     "name": "stdout",
     "output_type": "stream",
     "text": [
      "100\n",
      "True\n",
      "200\n",
      "False\n"
     ]
    }
   ],
   "source": [
    "for team in data['info']['teams']:\n",
    "    print(team['teamId'])\n",
    "    print(team['win'])"
   ]
  },
  {
   "cell_type": "code",
   "execution_count": 67,
   "metadata": {},
   "outputs": [
    {
     "data": {
      "text/plain": [
       "[{'bans': [{'championId': 555, 'pickTurn': 1},\n",
       "   {'championId': 131, 'pickTurn': 2},\n",
       "   {'championId': 157, 'pickTurn': 3},\n",
       "   {'championId': 166, 'pickTurn': 4},\n",
       "   {'championId': 51, 'pickTurn': 5}],\n",
       "  'objectives': {'baron': {'first': False, 'kills': 0},\n",
       "   'champion': {'first': False, 'kills': 34},\n",
       "   'dragon': {'first': True, 'kills': 4},\n",
       "   'inhibitor': {'first': False, 'kills': 2},\n",
       "   'riftHerald': {'first': True, 'kills': 2},\n",
       "   'tower': {'first': True, 'kills': 10}},\n",
       "  'teamId': 100,\n",
       "  'win': True},\n",
       " {'bans': [{'championId': 64, 'pickTurn': 6},\n",
       "   {'championId': 89, 'pickTurn': 7},\n",
       "   {'championId': 221, 'pickTurn': 8},\n",
       "   {'championId': 122, 'pickTurn': 9},\n",
       "   {'championId': 157, 'pickTurn': 10}],\n",
       "  'objectives': {'baron': {'first': True, 'kills': 1},\n",
       "   'champion': {'first': True, 'kills': 35},\n",
       "   'dragon': {'first': False, 'kills': 2},\n",
       "   'inhibitor': {'first': True, 'kills': 1},\n",
       "   'riftHerald': {'first': False, 'kills': 0},\n",
       "   'tower': {'first': False, 'kills': 6}},\n",
       "  'teamId': 200,\n",
       "  'win': False}]"
      ]
     },
     "execution_count": 67,
     "metadata": {},
     "output_type": "execute_result"
    }
   ],
   "source": [
    "data['info']['teams']"
   ]
  },
  {
   "cell_type": "code",
   "execution_count": null,
   "metadata": {},
   "outputs": [],
   "source": []
  }
 ],
 "metadata": {
  "interpreter": {
   "hash": "a81d3fb108a2e93eee648169e123f77f2b1db551eb740e889ab06ef35fc03013"
  },
  "kernelspec": {
   "display_name": "Python 3.8.10 ('.venv')",
   "language": "python",
   "name": "python3"
  },
  "language_info": {
   "codemirror_mode": {
    "name": "ipython",
    "version": 3
   },
   "file_extension": ".py",
   "mimetype": "text/x-python",
   "name": "python",
   "nbconvert_exporter": "python",
   "pygments_lexer": "ipython3",
   "version": "3.8.10"
  },
  "orig_nbformat": 4
 },
 "nbformat": 4,
 "nbformat_minor": 2
}
